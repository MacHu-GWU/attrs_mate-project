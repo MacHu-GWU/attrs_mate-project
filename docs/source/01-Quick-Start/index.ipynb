{
 "cells": [
  {
   "cell_type": "markdown",
   "id": "bec12956-d869-4749-a5d6-ad7aa0f9eccc",
   "metadata": {},
   "source": [
    "# Quick Start\n",
    "\n",
    "## Addtional Utility Methods\n",
    "\n",
    "- keys()\n",
    "- values()\n",
    "- items()\n",
    "- to_dict()\n",
    "- to_OrderedDict()"
   ]
  },
  {
   "cell_type": "code",
   "execution_count": 44,
   "id": "ce1894c3-0146-433a-b987-4a4d70ead7be",
   "metadata": {},
   "outputs": [],
   "source": [
    "from datetime import date, datetime\n",
    "from attrs_mate import attrs, AttrsClass\n",
    "from rich import print as rprint\n",
    "\n",
    "@attrs.define\n",
    "class User(AttrsClass):\n",
    "    id: str = attrs.field()\n",
    "    name: str = attrs.field()\n",
    "\n",
    "@attrs.define\n",
    "class DBUser(User):\n",
    "    role: str = attrs.field()"
   ]
  },
  {
   "cell_type": "code",
   "execution_count": 45,
   "id": "14b8af02-7da0-420f-8cf6-28cf2431ed54",
   "metadata": {},
   "outputs": [],
   "source": [
    "admin = DBUser(id=1, name=\"Alice\", role=\"admin\")"
   ]
  },
  {
   "cell_type": "code",
   "execution_count": 46,
   "id": "037e534b-8159-4168-92c0-53dd5f0cd338",
   "metadata": {},
   "outputs": [
    {
     "data": {
      "text/plain": [
       "['id', 'name', 'role']"
      ]
     },
     "execution_count": 46,
     "metadata": {},
     "output_type": "execute_result"
    }
   ],
   "source": [
    "admin.keys()"
   ]
  },
  {
   "cell_type": "code",
   "execution_count": 47,
   "id": "344d2e02-426d-41e5-aaf3-ea3a3f6e2c9f",
   "metadata": {},
   "outputs": [
    {
     "data": {
      "text/plain": [
       "[1, 'Alice', 'admin']"
      ]
     },
     "execution_count": 47,
     "metadata": {},
     "output_type": "execute_result"
    }
   ],
   "source": [
    "admin.values()"
   ]
  },
  {
   "cell_type": "code",
   "execution_count": 48,
   "id": "d6e0537e-3e16-4ed1-89ee-7a0a902d290c",
   "metadata": {},
   "outputs": [
    {
     "data": {
      "text/plain": [
       "[('id', 1), ('name', 'Alice'), ('role', 'admin')]"
      ]
     },
     "execution_count": 48,
     "metadata": {},
     "output_type": "execute_result"
    }
   ],
   "source": [
    "admin.items()"
   ]
  },
  {
   "cell_type": "code",
   "execution_count": 49,
   "id": "b62f5cc2-358f-497d-b250-56019c21656c",
   "metadata": {},
   "outputs": [
    {
     "data": {
      "text/plain": [
       "{'id': 1, 'name': 'Alice', 'role': 'admin'}"
      ]
     },
     "execution_count": 49,
     "metadata": {},
     "output_type": "execute_result"
    }
   ],
   "source": [
    "admin.to_dict()"
   ]
  },
  {
   "cell_type": "code",
   "execution_count": 50,
   "id": "b508cf77-dfbc-4e7e-92e6-33d59561e494",
   "metadata": {},
   "outputs": [
    {
     "data": {
      "text/plain": [
       "OrderedDict([('id', 1), ('name', 'Alice'), ('role', 'admin')])"
      ]
     },
     "execution_count": 50,
     "metadata": {},
     "output_type": "execute_result"
    }
   ],
   "source": [
    "admin.to_OrderedDict()"
   ]
  },
  {
   "cell_type": "markdown",
   "id": "92e7ab45-e833-4114-bb6a-2c25db81306d",
   "metadata": {},
   "source": [
    "## Automatical Serialization and Deserialization\n",
    "\n",
    "The ``to_dict()`` and ``Class.from_dict()`` method automatically serialize and deserialize your data properly."
   ]
  },
  {
   "cell_type": "code",
   "execution_count": 51,
   "id": "0fcb7707-3bf9-42ff-a869-225060f23150",
   "metadata": {},
   "outputs": [],
   "source": [
    "@attrs.define\n",
    "class Profile(AttrsClass):\n",
    "    firstname = AttrsClass.ib_str()\n",
    "    lastname = AttrsClass.ib_str()\n",
    "    ssn = AttrsClass.ib_str()\n",
    "\n",
    "\n",
    "@attrs.define\n",
    "class Degree(AttrsClass):\n",
    "    name = AttrsClass.ib_str()\n",
    "    year = AttrsClass.ib_int()\n",
    "\n",
    "\n",
    "@attrs.define\n",
    "class People(AttrsClass):\n",
    "    \"\"\"\n",
    "    - ``profile`` is nested field.\n",
    "    - ``degrees`` is collection type field.\n",
    "    \"\"\"\n",
    "    id = AttrsClass.ib_int()\n",
    "    profile = Profile.ib_nested()\n",
    "    degrees = Degree.ib_list_of_nested()"
   ]
  },
  {
   "cell_type": "code",
   "execution_count": 52,
   "id": "e7694dd5-ace2-4c10-802a-94c6548309fc",
   "metadata": {},
   "outputs": [
    {
     "data": {
      "text/html": [
       "<pre style=\"white-space:pre;overflow-x:auto;line-height:normal;font-family:Menlo,'DejaVu Sans Mono',consolas,'Courier New',monospace\"><span style=\"color: #800080; text-decoration-color: #800080; font-weight: bold\">People</span><span style=\"font-weight: bold\">(</span>\n",
       "    <span style=\"color: #808000; text-decoration-color: #808000\">id</span>=<span style=\"color: #008080; text-decoration-color: #008080; font-weight: bold\">1</span>,\n",
       "    <span style=\"color: #808000; text-decoration-color: #808000\">profile</span>=<span style=\"color: #800080; text-decoration-color: #800080; font-weight: bold\">Profile</span><span style=\"font-weight: bold\">(</span><span style=\"color: #808000; text-decoration-color: #808000\">firstname</span>=<span style=\"color: #008000; text-decoration-color: #008000\">'David'</span>, <span style=\"color: #808000; text-decoration-color: #808000\">lastname</span>=<span style=\"color: #008000; text-decoration-color: #008000\">'John'</span>, <span style=\"color: #808000; text-decoration-color: #808000\">ssn</span>=<span style=\"color: #008000; text-decoration-color: #008000\">'123-45-6789'</span><span style=\"font-weight: bold\">)</span>,\n",
       "    <span style=\"color: #808000; text-decoration-color: #808000\">degrees</span>=<span style=\"font-weight: bold\">[</span><span style=\"color: #800080; text-decoration-color: #800080; font-weight: bold\">Degree</span><span style=\"font-weight: bold\">(</span><span style=\"color: #808000; text-decoration-color: #808000\">name</span>=<span style=\"color: #008000; text-decoration-color: #008000\">'Bachelor'</span>, <span style=\"color: #808000; text-decoration-color: #808000\">year</span>=<span style=\"color: #008080; text-decoration-color: #008080; font-weight: bold\">2004</span><span style=\"font-weight: bold\">)</span>, <span style=\"color: #800080; text-decoration-color: #800080; font-weight: bold\">Degree</span><span style=\"font-weight: bold\">(</span><span style=\"color: #808000; text-decoration-color: #808000\">name</span>=<span style=\"color: #008000; text-decoration-color: #008000\">'Master'</span>, <span style=\"color: #808000; text-decoration-color: #808000\">year</span>=<span style=\"color: #008080; text-decoration-color: #008080; font-weight: bold\">2006</span><span style=\"font-weight: bold\">)]</span>\n",
       "<span style=\"font-weight: bold\">)</span>\n",
       "</pre>\n"
      ],
      "text/plain": [
       "\u001b[1;35mPeople\u001b[0m\u001b[1m(\u001b[0m\n",
       "    \u001b[33mid\u001b[0m=\u001b[1;36m1\u001b[0m,\n",
       "    \u001b[33mprofile\u001b[0m=\u001b[1;35mProfile\u001b[0m\u001b[1m(\u001b[0m\u001b[33mfirstname\u001b[0m=\u001b[32m'David'\u001b[0m, \u001b[33mlastname\u001b[0m=\u001b[32m'John'\u001b[0m, \u001b[33mssn\u001b[0m=\u001b[32m'123-45-6789'\u001b[0m\u001b[1m)\u001b[0m,\n",
       "    \u001b[33mdegrees\u001b[0m=\u001b[1m[\u001b[0m\u001b[1;35mDegree\u001b[0m\u001b[1m(\u001b[0m\u001b[33mname\u001b[0m=\u001b[32m'Bachelor'\u001b[0m, \u001b[33myear\u001b[0m=\u001b[1;36m2004\u001b[0m\u001b[1m)\u001b[0m, \u001b[1;35mDegree\u001b[0m\u001b[1m(\u001b[0m\u001b[33mname\u001b[0m=\u001b[32m'Master'\u001b[0m, \u001b[33myear\u001b[0m=\u001b[1;36m2006\u001b[0m\u001b[1m)\u001b[0m\u001b[1m]\u001b[0m\n",
       "\u001b[1m)\u001b[0m\n"
      ]
     },
     "metadata": {},
     "output_type": "display_data"
    }
   ],
   "source": [
    "# constructor data is generic dict\n",
    "people = People(\n",
    "    id=1,\n",
    "    profile=dict(\n",
    "        firstname=\"David\",\n",
    "        lastname=\"John\",\n",
    "        ssn=\"123-45-6789\",\n",
    "    ),\n",
    "    degrees=[\n",
    "        dict(name=\"Bachelor\", year=2004),\n",
    "        dict(name=\"Master\", year=2006),\n",
    "    ],\n",
    ")\n",
    "rprint(people)"
   ]
  },
  {
   "cell_type": "code",
   "execution_count": 53,
   "id": "ce6fa753-90dd-4d90-8b1d-fea765ea4432",
   "metadata": {},
   "outputs": [
    {
     "data": {
      "text/html": [
       "<pre style=\"white-space:pre;overflow-x:auto;line-height:normal;font-family:Menlo,'DejaVu Sans Mono',consolas,'Courier New',monospace\"><span style=\"font-weight: bold\">{</span>\n",
       "    <span style=\"color: #008000; text-decoration-color: #008000\">'id'</span>: <span style=\"color: #008080; text-decoration-color: #008080; font-weight: bold\">1</span>,\n",
       "    <span style=\"color: #008000; text-decoration-color: #008000\">'profile'</span>: <span style=\"font-weight: bold\">{</span><span style=\"color: #008000; text-decoration-color: #008000\">'firstname'</span>: <span style=\"color: #008000; text-decoration-color: #008000\">'David'</span>, <span style=\"color: #008000; text-decoration-color: #008000\">'lastname'</span>: <span style=\"color: #008000; text-decoration-color: #008000\">'John'</span>, <span style=\"color: #008000; text-decoration-color: #008000\">'ssn'</span>: <span style=\"color: #008000; text-decoration-color: #008000\">'123-45-6789'</span><span style=\"font-weight: bold\">}</span>,\n",
       "    <span style=\"color: #008000; text-decoration-color: #008000\">'degrees'</span>: <span style=\"font-weight: bold\">[{</span><span style=\"color: #008000; text-decoration-color: #008000\">'name'</span>: <span style=\"color: #008000; text-decoration-color: #008000\">'Bachelor'</span>, <span style=\"color: #008000; text-decoration-color: #008000\">'year'</span>: <span style=\"color: #008080; text-decoration-color: #008080; font-weight: bold\">2004</span><span style=\"font-weight: bold\">}</span>, <span style=\"font-weight: bold\">{</span><span style=\"color: #008000; text-decoration-color: #008000\">'name'</span>: <span style=\"color: #008000; text-decoration-color: #008000\">'Master'</span>, <span style=\"color: #008000; text-decoration-color: #008000\">'year'</span>: <span style=\"color: #008080; text-decoration-color: #008080; font-weight: bold\">2006</span><span style=\"font-weight: bold\">}]</span>\n",
       "<span style=\"font-weight: bold\">}</span>\n",
       "</pre>\n"
      ],
      "text/plain": [
       "\u001b[1m{\u001b[0m\n",
       "    \u001b[32m'id'\u001b[0m: \u001b[1;36m1\u001b[0m,\n",
       "    \u001b[32m'profile'\u001b[0m: \u001b[1m{\u001b[0m\u001b[32m'firstname'\u001b[0m: \u001b[32m'David'\u001b[0m, \u001b[32m'lastname'\u001b[0m: \u001b[32m'John'\u001b[0m, \u001b[32m'ssn'\u001b[0m: \u001b[32m'123-45-6789'\u001b[0m\u001b[1m}\u001b[0m,\n",
       "    \u001b[32m'degrees'\u001b[0m: \u001b[1m[\u001b[0m\u001b[1m{\u001b[0m\u001b[32m'name'\u001b[0m: \u001b[32m'Bachelor'\u001b[0m, \u001b[32m'year'\u001b[0m: \u001b[1;36m2004\u001b[0m\u001b[1m}\u001b[0m, \u001b[1m{\u001b[0m\u001b[32m'name'\u001b[0m: \u001b[32m'Master'\u001b[0m, \u001b[32m'year'\u001b[0m: \u001b[1;36m2006\u001b[0m\u001b[1m}\u001b[0m\u001b[1m]\u001b[0m\n",
       "\u001b[1m}\u001b[0m\n"
      ]
     },
     "metadata": {},
     "output_type": "display_data"
    }
   ],
   "source": [
    "people_data = people.to_dict()\n",
    "rprint(people_data)"
   ]
  },
  {
   "cell_type": "code",
   "execution_count": 54,
   "id": "c46f0aa9-9933-45c5-bd4d-b830e6c1325e",
   "metadata": {},
   "outputs": [
    {
     "data": {
      "text/html": [
       "<pre style=\"white-space:pre;overflow-x:auto;line-height:normal;font-family:Menlo,'DejaVu Sans Mono',consolas,'Courier New',monospace\"><span style=\"color: #800080; text-decoration-color: #800080; font-weight: bold\">People</span><span style=\"font-weight: bold\">(</span>\n",
       "    <span style=\"color: #808000; text-decoration-color: #808000\">id</span>=<span style=\"color: #008080; text-decoration-color: #008080; font-weight: bold\">1</span>,\n",
       "    <span style=\"color: #808000; text-decoration-color: #808000\">profile</span>=<span style=\"color: #800080; text-decoration-color: #800080; font-weight: bold\">Profile</span><span style=\"font-weight: bold\">(</span><span style=\"color: #808000; text-decoration-color: #808000\">firstname</span>=<span style=\"color: #008000; text-decoration-color: #008000\">'David'</span>, <span style=\"color: #808000; text-decoration-color: #808000\">lastname</span>=<span style=\"color: #008000; text-decoration-color: #008000\">'John'</span>, <span style=\"color: #808000; text-decoration-color: #808000\">ssn</span>=<span style=\"color: #008000; text-decoration-color: #008000\">'123-45-6789'</span><span style=\"font-weight: bold\">)</span>,\n",
       "    <span style=\"color: #808000; text-decoration-color: #808000\">degrees</span>=<span style=\"font-weight: bold\">[</span><span style=\"color: #800080; text-decoration-color: #800080; font-weight: bold\">Degree</span><span style=\"font-weight: bold\">(</span><span style=\"color: #808000; text-decoration-color: #808000\">name</span>=<span style=\"color: #008000; text-decoration-color: #008000\">'Bachelor'</span>, <span style=\"color: #808000; text-decoration-color: #808000\">year</span>=<span style=\"color: #008080; text-decoration-color: #008080; font-weight: bold\">2004</span><span style=\"font-weight: bold\">)</span>, <span style=\"color: #800080; text-decoration-color: #800080; font-weight: bold\">Degree</span><span style=\"font-weight: bold\">(</span><span style=\"color: #808000; text-decoration-color: #808000\">name</span>=<span style=\"color: #008000; text-decoration-color: #008000\">'Master'</span>, <span style=\"color: #808000; text-decoration-color: #808000\">year</span>=<span style=\"color: #008080; text-decoration-color: #008080; font-weight: bold\">2006</span><span style=\"font-weight: bold\">)]</span>\n",
       "<span style=\"font-weight: bold\">)</span>\n",
       "</pre>\n"
      ],
      "text/plain": [
       "\u001b[1;35mPeople\u001b[0m\u001b[1m(\u001b[0m\n",
       "    \u001b[33mid\u001b[0m=\u001b[1;36m1\u001b[0m,\n",
       "    \u001b[33mprofile\u001b[0m=\u001b[1;35mProfile\u001b[0m\u001b[1m(\u001b[0m\u001b[33mfirstname\u001b[0m=\u001b[32m'David'\u001b[0m, \u001b[33mlastname\u001b[0m=\u001b[32m'John'\u001b[0m, \u001b[33mssn\u001b[0m=\u001b[32m'123-45-6789'\u001b[0m\u001b[1m)\u001b[0m,\n",
       "    \u001b[33mdegrees\u001b[0m=\u001b[1m[\u001b[0m\u001b[1;35mDegree\u001b[0m\u001b[1m(\u001b[0m\u001b[33mname\u001b[0m=\u001b[32m'Bachelor'\u001b[0m, \u001b[33myear\u001b[0m=\u001b[1;36m2004\u001b[0m\u001b[1m)\u001b[0m, \u001b[1;35mDegree\u001b[0m\u001b[1m(\u001b[0m\u001b[33mname\u001b[0m=\u001b[32m'Master'\u001b[0m, \u001b[33myear\u001b[0m=\u001b[1;36m2006\u001b[0m\u001b[1m)\u001b[0m\u001b[1m]\u001b[0m\n",
       "\u001b[1m)\u001b[0m\n"
      ]
     },
     "metadata": {},
     "output_type": "display_data"
    }
   ],
   "source": [
    "people1 = People.from_dict(people_data)\n",
    "rprint(people1)"
   ]
  },
  {
   "cell_type": "code",
   "execution_count": 55,
   "id": "a59a76b2-94a9-400a-9f91-9b85d6465fa1",
   "metadata": {},
   "outputs": [
    {
     "data": {
      "text/html": [
       "<pre style=\"white-space:pre;overflow-x:auto;line-height:normal;font-family:Menlo,'DejaVu Sans Mono',consolas,'Courier New',monospace\"><span style=\"color: #800080; text-decoration-color: #800080; font-weight: bold\">People</span><span style=\"font-weight: bold\">(</span>\n",
       "    <span style=\"color: #808000; text-decoration-color: #808000\">id</span>=<span style=\"color: #008080; text-decoration-color: #008080; font-weight: bold\">1</span>,\n",
       "    <span style=\"color: #808000; text-decoration-color: #808000\">profile</span>=<span style=\"color: #800080; text-decoration-color: #800080; font-weight: bold\">Profile</span><span style=\"font-weight: bold\">(</span><span style=\"color: #808000; text-decoration-color: #808000\">firstname</span>=<span style=\"color: #008000; text-decoration-color: #008000\">'David'</span>, <span style=\"color: #808000; text-decoration-color: #808000\">lastname</span>=<span style=\"color: #008000; text-decoration-color: #008000\">'John'</span>, <span style=\"color: #808000; text-decoration-color: #808000\">ssn</span>=<span style=\"color: #008000; text-decoration-color: #008000\">'123-45-6789'</span><span style=\"font-weight: bold\">)</span>,\n",
       "    <span style=\"color: #808000; text-decoration-color: #808000\">degrees</span>=<span style=\"font-weight: bold\">[</span><span style=\"color: #800080; text-decoration-color: #800080; font-weight: bold\">Degree</span><span style=\"font-weight: bold\">(</span><span style=\"color: #808000; text-decoration-color: #808000\">name</span>=<span style=\"color: #008000; text-decoration-color: #008000\">'Bachelor'</span>, <span style=\"color: #808000; text-decoration-color: #808000\">year</span>=<span style=\"color: #008080; text-decoration-color: #008080; font-weight: bold\">2004</span><span style=\"font-weight: bold\">)</span>, <span style=\"color: #800080; text-decoration-color: #800080; font-weight: bold\">Degree</span><span style=\"font-weight: bold\">(</span><span style=\"color: #808000; text-decoration-color: #808000\">name</span>=<span style=\"color: #008000; text-decoration-color: #008000\">'Master'</span>, <span style=\"color: #808000; text-decoration-color: #808000\">year</span>=<span style=\"color: #008080; text-decoration-color: #008080; font-weight: bold\">2006</span><span style=\"font-weight: bold\">)]</span>\n",
       "<span style=\"font-weight: bold\">)</span>\n",
       "</pre>\n"
      ],
      "text/plain": [
       "\u001b[1;35mPeople\u001b[0m\u001b[1m(\u001b[0m\n",
       "    \u001b[33mid\u001b[0m=\u001b[1;36m1\u001b[0m,\n",
       "    \u001b[33mprofile\u001b[0m=\u001b[1;35mProfile\u001b[0m\u001b[1m(\u001b[0m\u001b[33mfirstname\u001b[0m=\u001b[32m'David'\u001b[0m, \u001b[33mlastname\u001b[0m=\u001b[32m'John'\u001b[0m, \u001b[33mssn\u001b[0m=\u001b[32m'123-45-6789'\u001b[0m\u001b[1m)\u001b[0m,\n",
       "    \u001b[33mdegrees\u001b[0m=\u001b[1m[\u001b[0m\u001b[1;35mDegree\u001b[0m\u001b[1m(\u001b[0m\u001b[33mname\u001b[0m=\u001b[32m'Bachelor'\u001b[0m, \u001b[33myear\u001b[0m=\u001b[1;36m2004\u001b[0m\u001b[1m)\u001b[0m, \u001b[1;35mDegree\u001b[0m\u001b[1m(\u001b[0m\u001b[33mname\u001b[0m=\u001b[32m'Master'\u001b[0m, \u001b[33myear\u001b[0m=\u001b[1;36m2006\u001b[0m\u001b[1m)\u001b[0m\u001b[1m]\u001b[0m\n",
       "\u001b[1m)\u001b[0m\n"
      ]
     },
     "metadata": {},
     "output_type": "display_data"
    }
   ],
   "source": [
    "# constructor data is already object\n",
    "people = People(\n",
    "    id=1,\n",
    "    profile=Profile(\n",
    "        firstname=\"David\",\n",
    "        lastname=\"John\",\n",
    "        ssn=\"123-45-6789\",\n",
    "    ),\n",
    "    degrees=[\n",
    "        Degree(name=\"Bachelor\", year=2004),\n",
    "        Degree(name=\"Master\", year=2006),\n",
    "    ],\n",
    ")\n",
    "rprint(people)"
   ]
  },
  {
   "cell_type": "code",
   "execution_count": 56,
   "id": "b4114b7b-3d92-4ff9-a04c-57c64bf10460",
   "metadata": {},
   "outputs": [
    {
     "data": {
      "text/html": [
       "<pre style=\"white-space:pre;overflow-x:auto;line-height:normal;font-family:Menlo,'DejaVu Sans Mono',consolas,'Courier New',monospace\"><span style=\"font-weight: bold\">{</span>\n",
       "    <span style=\"color: #008000; text-decoration-color: #008000\">'id'</span>: <span style=\"color: #008080; text-decoration-color: #008080; font-weight: bold\">1</span>,\n",
       "    <span style=\"color: #008000; text-decoration-color: #008000\">'profile'</span>: <span style=\"font-weight: bold\">{</span><span style=\"color: #008000; text-decoration-color: #008000\">'firstname'</span>: <span style=\"color: #008000; text-decoration-color: #008000\">'David'</span>, <span style=\"color: #008000; text-decoration-color: #008000\">'lastname'</span>: <span style=\"color: #008000; text-decoration-color: #008000\">'John'</span>, <span style=\"color: #008000; text-decoration-color: #008000\">'ssn'</span>: <span style=\"color: #008000; text-decoration-color: #008000\">'123-45-6789'</span><span style=\"font-weight: bold\">}</span>,\n",
       "    <span style=\"color: #008000; text-decoration-color: #008000\">'degrees'</span>: <span style=\"font-weight: bold\">[{</span><span style=\"color: #008000; text-decoration-color: #008000\">'name'</span>: <span style=\"color: #008000; text-decoration-color: #008000\">'Bachelor'</span>, <span style=\"color: #008000; text-decoration-color: #008000\">'year'</span>: <span style=\"color: #008080; text-decoration-color: #008080; font-weight: bold\">2004</span><span style=\"font-weight: bold\">}</span>, <span style=\"font-weight: bold\">{</span><span style=\"color: #008000; text-decoration-color: #008000\">'name'</span>: <span style=\"color: #008000; text-decoration-color: #008000\">'Master'</span>, <span style=\"color: #008000; text-decoration-color: #008000\">'year'</span>: <span style=\"color: #008080; text-decoration-color: #008080; font-weight: bold\">2006</span><span style=\"font-weight: bold\">}]</span>\n",
       "<span style=\"font-weight: bold\">}</span>\n",
       "</pre>\n"
      ],
      "text/plain": [
       "\u001b[1m{\u001b[0m\n",
       "    \u001b[32m'id'\u001b[0m: \u001b[1;36m1\u001b[0m,\n",
       "    \u001b[32m'profile'\u001b[0m: \u001b[1m{\u001b[0m\u001b[32m'firstname'\u001b[0m: \u001b[32m'David'\u001b[0m, \u001b[32m'lastname'\u001b[0m: \u001b[32m'John'\u001b[0m, \u001b[32m'ssn'\u001b[0m: \u001b[32m'123-45-6789'\u001b[0m\u001b[1m}\u001b[0m,\n",
       "    \u001b[32m'degrees'\u001b[0m: \u001b[1m[\u001b[0m\u001b[1m{\u001b[0m\u001b[32m'name'\u001b[0m: \u001b[32m'Bachelor'\u001b[0m, \u001b[32m'year'\u001b[0m: \u001b[1;36m2004\u001b[0m\u001b[1m}\u001b[0m, \u001b[1m{\u001b[0m\u001b[32m'name'\u001b[0m: \u001b[32m'Master'\u001b[0m, \u001b[32m'year'\u001b[0m: \u001b[1;36m2006\u001b[0m\u001b[1m}\u001b[0m\u001b[1m]\u001b[0m\n",
       "\u001b[1m}\u001b[0m\n"
      ]
     },
     "metadata": {},
     "output_type": "display_data"
    }
   ],
   "source": [
    "people_data = people.to_dict()\n",
    "rprint(people_data)"
   ]
  },
  {
   "cell_type": "code",
   "execution_count": 57,
   "id": "a7308f6a-c79a-41c5-af8d-a1902068e8e9",
   "metadata": {},
   "outputs": [
    {
     "data": {
      "text/html": [
       "<pre style=\"white-space:pre;overflow-x:auto;line-height:normal;font-family:Menlo,'DejaVu Sans Mono',consolas,'Courier New',monospace\"><span style=\"color: #800080; text-decoration-color: #800080; font-weight: bold\">People</span><span style=\"font-weight: bold\">(</span>\n",
       "    <span style=\"color: #808000; text-decoration-color: #808000\">id</span>=<span style=\"color: #008080; text-decoration-color: #008080; font-weight: bold\">1</span>,\n",
       "    <span style=\"color: #808000; text-decoration-color: #808000\">profile</span>=<span style=\"color: #800080; text-decoration-color: #800080; font-weight: bold\">Profile</span><span style=\"font-weight: bold\">(</span><span style=\"color: #808000; text-decoration-color: #808000\">firstname</span>=<span style=\"color: #008000; text-decoration-color: #008000\">'David'</span>, <span style=\"color: #808000; text-decoration-color: #808000\">lastname</span>=<span style=\"color: #008000; text-decoration-color: #008000\">'John'</span>, <span style=\"color: #808000; text-decoration-color: #808000\">ssn</span>=<span style=\"color: #008000; text-decoration-color: #008000\">'123-45-6789'</span><span style=\"font-weight: bold\">)</span>,\n",
       "    <span style=\"color: #808000; text-decoration-color: #808000\">degrees</span>=<span style=\"font-weight: bold\">[</span><span style=\"color: #800080; text-decoration-color: #800080; font-weight: bold\">Degree</span><span style=\"font-weight: bold\">(</span><span style=\"color: #808000; text-decoration-color: #808000\">name</span>=<span style=\"color: #008000; text-decoration-color: #008000\">'Bachelor'</span>, <span style=\"color: #808000; text-decoration-color: #808000\">year</span>=<span style=\"color: #008080; text-decoration-color: #008080; font-weight: bold\">2004</span><span style=\"font-weight: bold\">)</span>, <span style=\"color: #800080; text-decoration-color: #800080; font-weight: bold\">Degree</span><span style=\"font-weight: bold\">(</span><span style=\"color: #808000; text-decoration-color: #808000\">name</span>=<span style=\"color: #008000; text-decoration-color: #008000\">'Master'</span>, <span style=\"color: #808000; text-decoration-color: #808000\">year</span>=<span style=\"color: #008080; text-decoration-color: #008080; font-weight: bold\">2006</span><span style=\"font-weight: bold\">)]</span>\n",
       "<span style=\"font-weight: bold\">)</span>\n",
       "</pre>\n"
      ],
      "text/plain": [
       "\u001b[1;35mPeople\u001b[0m\u001b[1m(\u001b[0m\n",
       "    \u001b[33mid\u001b[0m=\u001b[1;36m1\u001b[0m,\n",
       "    \u001b[33mprofile\u001b[0m=\u001b[1;35mProfile\u001b[0m\u001b[1m(\u001b[0m\u001b[33mfirstname\u001b[0m=\u001b[32m'David'\u001b[0m, \u001b[33mlastname\u001b[0m=\u001b[32m'John'\u001b[0m, \u001b[33mssn\u001b[0m=\u001b[32m'123-45-6789'\u001b[0m\u001b[1m)\u001b[0m,\n",
       "    \u001b[33mdegrees\u001b[0m=\u001b[1m[\u001b[0m\u001b[1;35mDegree\u001b[0m\u001b[1m(\u001b[0m\u001b[33mname\u001b[0m=\u001b[32m'Bachelor'\u001b[0m, \u001b[33myear\u001b[0m=\u001b[1;36m2004\u001b[0m\u001b[1m)\u001b[0m, \u001b[1;35mDegree\u001b[0m\u001b[1m(\u001b[0m\u001b[33mname\u001b[0m=\u001b[32m'Master'\u001b[0m, \u001b[33myear\u001b[0m=\u001b[1;36m2006\u001b[0m\u001b[1m)\u001b[0m\u001b[1m]\u001b[0m\n",
       "\u001b[1m)\u001b[0m\n"
      ]
     },
     "metadata": {},
     "output_type": "display_data"
    }
   ],
   "source": [
    "people1 = People.from_dict(people_data)\n",
    "rprint(people1)"
   ]
  },
  {
   "cell_type": "markdown",
   "id": "be515635-0d90-4bd7-a603-3cbde83ed5f3",
   "metadata": {},
   "source": [
    "## Attributes with Type Validator"
   ]
  },
  {
   "cell_type": "code",
   "execution_count": 58,
   "id": "ad729eef-d282-450c-802e-a55ca9732c61",
   "metadata": {},
   "outputs": [],
   "source": [
    "class User:\n",
    "    pass\n",
    "\n",
    "@attrs.define\n",
    "class Invalid:\n",
    "    pass\n",
    "    \n",
    "@attrs.define\n",
    "class Data(AttrsClass):\n",
    "    ib_str = AttrsClass.ib_str()\n",
    "    ib_int = AttrsClass.ib_int()\n",
    "    ib_float = AttrsClass.ib_float()\n",
    "    ib_bool = AttrsClass.ib_bool()\n",
    "    ib_date = AttrsClass.ib_date()\n",
    "    ib_datetime = AttrsClass.ib_datetime()\n",
    "    ib_user = AttrsClass.ib_generic(User)"
   ]
  },
  {
   "cell_type": "code",
   "execution_count": 59,
   "id": "ef9ab5ee-a9a8-4999-b32c-9b0c84217454",
   "metadata": {},
   "outputs": [],
   "source": [
    "data = Data(\n",
    "    ib_str=\"s\",\n",
    "    ib_int=1,\n",
    "    ib_float=3.14,\n",
    "    ib_bool=True,\n",
    "    ib_date=date.today(),\n",
    "    ib_datetime=datetime.now(),\n",
    "    ib_user=User(),\n",
    ")"
   ]
  },
  {
   "cell_type": "code",
   "execution_count": 60,
   "id": "e452c4f9-aa35-4f2c-9dcc-e1acdd6dae93",
   "metadata": {},
   "outputs": [],
   "source": [
    "invalid = Invalid()"
   ]
  },
  {
   "cell_type": "code",
   "execution_count": 61,
   "id": "94a1b3c2-218a-4f5c-afe4-3daa2902cb8e",
   "metadata": {},
   "outputs": [
    {
     "ename": "TypeError",
     "evalue": "(\"'ib_str' must be <class 'str'> (got Invalid() that is a <class '__main__.Invalid'>).\", Attribute(name='ib_str', default=NOTHING, validator=<optional validator for <instance_of validator for type <class 'str'>> or None>, repr=True, eq=True, eq_key=None, order=True, order_key=None, hash=None, init=True, metadata=mappingproxy({}), type=None, converter=None, kw_only=False, inherited=False, on_setattr=None, alias='ib_str'), <class 'str'>, Invalid())",
     "output_type": "error",
     "traceback": [
      "\u001b[0;31m---------------------------------------------------------------------------\u001b[0m",
      "\u001b[0;31mTypeError\u001b[0m                                 Traceback (most recent call last)",
      "Cell \u001b[0;32mIn[61], line 1\u001b[0m\n\u001b[0;32m----> 1\u001b[0m \u001b[43mattrs\u001b[49m\u001b[38;5;241;43m.\u001b[39;49m\u001b[43mevolve\u001b[49m\u001b[43m(\u001b[49m\u001b[43mdata\u001b[49m\u001b[43m,\u001b[49m\u001b[43m \u001b[49m\u001b[43mib_str\u001b[49m\u001b[38;5;241;43m=\u001b[39;49m\u001b[43minvalid\u001b[49m\u001b[43m)\u001b[49m\n",
      "File \u001b[0;32m~/Documents/GitHub/attrs_mate-project/.venv/lib/python3.8/site-packages/attr/_funcs.py:413\u001b[0m, in \u001b[0;36mevolve\u001b[0;34m(*args, **changes)\u001b[0m\n\u001b[1;32m    410\u001b[0m     \u001b[38;5;28;01mif\u001b[39;00m init_name \u001b[38;5;129;01mnot\u001b[39;00m \u001b[38;5;129;01min\u001b[39;00m changes:\n\u001b[1;32m    411\u001b[0m         changes[init_name] \u001b[38;5;241m=\u001b[39m \u001b[38;5;28mgetattr\u001b[39m(inst, attr_name)\n\u001b[0;32m--> 413\u001b[0m \u001b[38;5;28;01mreturn\u001b[39;00m \u001b[38;5;28;43mcls\u001b[39;49m\u001b[43m(\u001b[49m\u001b[38;5;241;43m*\u001b[39;49m\u001b[38;5;241;43m*\u001b[39;49m\u001b[43mchanges\u001b[49m\u001b[43m)\u001b[49m\n",
      "File \u001b[0;32m<attrs generated init __main__.Data>:11\u001b[0m, in \u001b[0;36m__init__\u001b[0;34m(self, ib_str, ib_int, ib_float, ib_bool, ib_date, ib_datetime, ib_user)\u001b[0m\n\u001b[1;32m      9\u001b[0m _setattr(\u001b[38;5;124m'\u001b[39m\u001b[38;5;124mib_user\u001b[39m\u001b[38;5;124m'\u001b[39m, ib_user)\n\u001b[1;32m     10\u001b[0m \u001b[38;5;28;01mif\u001b[39;00m _config\u001b[38;5;241m.\u001b[39m_run_validators \u001b[38;5;129;01mis\u001b[39;00m \u001b[38;5;28;01mTrue\u001b[39;00m:\n\u001b[0;32m---> 11\u001b[0m     \u001b[43m__attr_validator_ib_str\u001b[49m\u001b[43m(\u001b[49m\u001b[38;5;28;43mself\u001b[39;49m\u001b[43m,\u001b[49m\u001b[43m \u001b[49m\u001b[43m__attr_ib_str\u001b[49m\u001b[43m,\u001b[49m\u001b[43m \u001b[49m\u001b[38;5;28;43mself\u001b[39;49m\u001b[38;5;241;43m.\u001b[39;49m\u001b[43mib_str\u001b[49m\u001b[43m)\u001b[49m\n\u001b[1;32m     12\u001b[0m     __attr_validator_ib_int(\u001b[38;5;28mself\u001b[39m, __attr_ib_int, \u001b[38;5;28mself\u001b[39m\u001b[38;5;241m.\u001b[39mib_int)\n\u001b[1;32m     13\u001b[0m     __attr_validator_ib_float(\u001b[38;5;28mself\u001b[39m, __attr_ib_float, \u001b[38;5;28mself\u001b[39m\u001b[38;5;241m.\u001b[39mib_float)\n",
      "File \u001b[0;32m~/Documents/GitHub/attrs_mate-project/.venv/lib/python3.8/site-packages/attr/validators.py:269\u001b[0m, in \u001b[0;36m_OptionalValidator.__call__\u001b[0;34m(self, inst, attr, value)\u001b[0m\n\u001b[1;32m    266\u001b[0m \u001b[38;5;28;01mif\u001b[39;00m value \u001b[38;5;129;01mis\u001b[39;00m \u001b[38;5;28;01mNone\u001b[39;00m:\n\u001b[1;32m    267\u001b[0m     \u001b[38;5;28;01mreturn\u001b[39;00m\n\u001b[0;32m--> 269\u001b[0m \u001b[38;5;28;43mself\u001b[39;49m\u001b[38;5;241;43m.\u001b[39;49m\u001b[43mvalidator\u001b[49m\u001b[43m(\u001b[49m\u001b[43minst\u001b[49m\u001b[43m,\u001b[49m\u001b[43m \u001b[49m\u001b[43mattr\u001b[49m\u001b[43m,\u001b[49m\u001b[43m \u001b[49m\u001b[43mvalue\u001b[49m\u001b[43m)\u001b[49m\n",
      "File \u001b[0;32m~/Documents/GitHub/attrs_mate-project/.venv/lib/python3.8/site-packages/attr/validators.py:100\u001b[0m, in \u001b[0;36m_InstanceOfValidator.__call__\u001b[0;34m(self, inst, attr, value)\u001b[0m\n\u001b[1;32m     96\u001b[0m \u001b[38;5;250m\u001b[39m\u001b[38;5;124;03m\"\"\"\u001b[39;00m\n\u001b[1;32m     97\u001b[0m \u001b[38;5;124;03mWe use a callable class to be able to change the ``__repr__``.\u001b[39;00m\n\u001b[1;32m     98\u001b[0m \u001b[38;5;124;03m\"\"\"\u001b[39;00m\n\u001b[1;32m     99\u001b[0m \u001b[38;5;28;01mif\u001b[39;00m \u001b[38;5;129;01mnot\u001b[39;00m \u001b[38;5;28misinstance\u001b[39m(value, \u001b[38;5;28mself\u001b[39m\u001b[38;5;241m.\u001b[39mtype):\n\u001b[0;32m--> 100\u001b[0m     \u001b[38;5;28;01mraise\u001b[39;00m \u001b[38;5;167;01mTypeError\u001b[39;00m(\n\u001b[1;32m    101\u001b[0m         \u001b[38;5;124m\"\u001b[39m\u001b[38;5;124m'\u001b[39m\u001b[38;5;132;01m{name}\u001b[39;00m\u001b[38;5;124m'\u001b[39m\u001b[38;5;124m must be \u001b[39m\u001b[38;5;132;01m{type!r}\u001b[39;00m\u001b[38;5;124m (got \u001b[39m\u001b[38;5;132;01m{value!r}\u001b[39;00m\u001b[38;5;124m that is a \u001b[39m\u001b[38;5;124m\"\u001b[39m\n\u001b[1;32m    102\u001b[0m         \u001b[38;5;124m\"\u001b[39m\u001b[38;5;132;01m{actual!r}\u001b[39;00m\u001b[38;5;124m).\u001b[39m\u001b[38;5;124m\"\u001b[39m\u001b[38;5;241m.\u001b[39mformat(\n\u001b[1;32m    103\u001b[0m             name\u001b[38;5;241m=\u001b[39mattr\u001b[38;5;241m.\u001b[39mname,\n\u001b[1;32m    104\u001b[0m             \u001b[38;5;28mtype\u001b[39m\u001b[38;5;241m=\u001b[39m\u001b[38;5;28mself\u001b[39m\u001b[38;5;241m.\u001b[39mtype,\n\u001b[1;32m    105\u001b[0m             actual\u001b[38;5;241m=\u001b[39mvalue\u001b[38;5;241m.\u001b[39m\u001b[38;5;18m__class__\u001b[39m,\n\u001b[1;32m    106\u001b[0m             value\u001b[38;5;241m=\u001b[39mvalue,\n\u001b[1;32m    107\u001b[0m         ),\n\u001b[1;32m    108\u001b[0m         attr,\n\u001b[1;32m    109\u001b[0m         \u001b[38;5;28mself\u001b[39m\u001b[38;5;241m.\u001b[39mtype,\n\u001b[1;32m    110\u001b[0m         value,\n\u001b[1;32m    111\u001b[0m     )\n",
      "\u001b[0;31mTypeError\u001b[0m: (\"'ib_str' must be <class 'str'> (got Invalid() that is a <class '__main__.Invalid'>).\", Attribute(name='ib_str', default=NOTHING, validator=<optional validator for <instance_of validator for type <class 'str'>> or None>, repr=True, eq=True, eq_key=None, order=True, order_key=None, hash=None, init=True, metadata=mappingproxy({}), type=None, converter=None, kw_only=False, inherited=False, on_setattr=None, alias='ib_str'), <class 'str'>, Invalid())"
     ]
    }
   ],
   "source": [
    "attrs.evolve(data, ib_str=invalid)"
   ]
  },
  {
   "cell_type": "code",
   "execution_count": 62,
   "id": "77272414-bf19-4606-85bb-4eaa89d244f7",
   "metadata": {},
   "outputs": [],
   "source": [
    "# These are similar\n",
    "# attrs.evolve(data, ib_int=invalid)\n",
    "# attrs.evolve(data, ib_float=invalid)\n",
    "# attrs.evolve(data, ib_bool=invalid)\n",
    "# attrs.evolve(data, ib_date=invalid)\n",
    "# attrs.evolve(data, ib_datetime=invalid)\n",
    "# attrs.evolve(data, ib_user=invalid)"
   ]
  },
  {
   "cell_type": "code",
   "execution_count": 63,
   "id": "87ad4913-8be7-4f07-a2be-9bb31cc94a3e",
   "metadata": {},
   "outputs": [],
   "source": [
    "# By default, None is OK, \n",
    "# if you don't want none, you can use AttrsClass.ib_str(nullable=False)\n",
    "data = Data(\n",
    "    ib_str=None,\n",
    "    ib_int=None,\n",
    "    ib_float=None,\n",
    "    ib_bool=None,\n",
    "    ib_date=None,\n",
    "    ib_datetime=None,\n",
    "    ib_user=None,\n",
    ")"
   ]
  },
  {
   "cell_type": "code",
   "execution_count": 64,
   "id": "4dbca443-966f-43f8-b9a3-edb158e9f6a9",
   "metadata": {},
   "outputs": [],
   "source": [
    "@attrs.define\n",
    "class Data(AttrsClass):\n",
    "    ib_list = AttrsClass.ib_list()\n",
    "    ib_tuple = AttrsClass.ib_tuple()\n",
    "    ib_set = AttrsClass.ib_set()\n",
    "    ib_dict = AttrsClass.ib_dict()\n",
    "    ib_user_list = AttrsClass.ib_list_of_generic(User)\n",
    "    ib_user_mapper = AttrsClass.ib_dict_of_generic(key_type=str, value_type=User)"
   ]
  },
  {
   "cell_type": "code",
   "execution_count": 65,
   "id": "deb26751-af32-4903-b191-43cb9368b6df",
   "metadata": {},
   "outputs": [],
   "source": [
    "data = Data(\n",
    "    ib_list=[1, 2],\n",
    "    ib_tuple=(1, 2),\n",
    "    ib_set={1, 2},\n",
    "    ib_dict={\"a\": 1, \"b\": 2},\n",
    "    ib_user_list=[User(), User()],\n",
    "    ib_user_mapper={\"a\": User(), \"b\": User()},\n",
    ")"
   ]
  },
  {
   "cell_type": "code",
   "execution_count": 66,
   "id": "f534788e-8494-4d7f-bf11-a4a65e0505ca",
   "metadata": {},
   "outputs": [
    {
     "ename": "TypeError",
     "evalue": "(\"'ib_list' must be <class 'list'> (got Invalid() that is a <class '__main__.Invalid'>).\", Attribute(name='ib_list', default=NOTHING, validator=<optional validator for <instance_of validator for type <class 'list'>> or None>, repr=True, eq=True, eq_key=None, order=True, order_key=None, hash=None, init=True, metadata=mappingproxy({}), type=None, converter=None, kw_only=False, inherited=False, on_setattr=None, alias='ib_list'), <class 'list'>, Invalid())",
     "output_type": "error",
     "traceback": [
      "\u001b[0;31m---------------------------------------------------------------------------\u001b[0m",
      "\u001b[0;31mTypeError\u001b[0m                                 Traceback (most recent call last)",
      "Cell \u001b[0;32mIn[66], line 2\u001b[0m\n\u001b[1;32m      1\u001b[0m \u001b[38;5;66;03m# ib_list is not a list\u001b[39;00m\n\u001b[0;32m----> 2\u001b[0m \u001b[43mattrs\u001b[49m\u001b[38;5;241;43m.\u001b[39;49m\u001b[43mevolve\u001b[49m\u001b[43m(\u001b[49m\u001b[43mdata\u001b[49m\u001b[43m,\u001b[49m\u001b[43m \u001b[49m\u001b[43mib_list\u001b[49m\u001b[38;5;241;43m=\u001b[39;49m\u001b[43minvalid\u001b[49m\u001b[43m)\u001b[49m\n",
      "File \u001b[0;32m~/Documents/GitHub/attrs_mate-project/.venv/lib/python3.8/site-packages/attr/_funcs.py:413\u001b[0m, in \u001b[0;36mevolve\u001b[0;34m(*args, **changes)\u001b[0m\n\u001b[1;32m    410\u001b[0m     \u001b[38;5;28;01mif\u001b[39;00m init_name \u001b[38;5;129;01mnot\u001b[39;00m \u001b[38;5;129;01min\u001b[39;00m changes:\n\u001b[1;32m    411\u001b[0m         changes[init_name] \u001b[38;5;241m=\u001b[39m \u001b[38;5;28mgetattr\u001b[39m(inst, attr_name)\n\u001b[0;32m--> 413\u001b[0m \u001b[38;5;28;01mreturn\u001b[39;00m \u001b[38;5;28;43mcls\u001b[39;49m\u001b[43m(\u001b[49m\u001b[38;5;241;43m*\u001b[39;49m\u001b[38;5;241;43m*\u001b[39;49m\u001b[43mchanges\u001b[49m\u001b[43m)\u001b[49m\n",
      "File \u001b[0;32m<attrs generated init __main__.Data-3>:10\u001b[0m, in \u001b[0;36m__init__\u001b[0;34m(self, ib_list, ib_tuple, ib_set, ib_dict, ib_user_list, ib_user_mapper)\u001b[0m\n\u001b[1;32m      8\u001b[0m _setattr(\u001b[38;5;124m'\u001b[39m\u001b[38;5;124mib_user_mapper\u001b[39m\u001b[38;5;124m'\u001b[39m, ib_user_mapper)\n\u001b[1;32m      9\u001b[0m \u001b[38;5;28;01mif\u001b[39;00m _config\u001b[38;5;241m.\u001b[39m_run_validators \u001b[38;5;129;01mis\u001b[39;00m \u001b[38;5;28;01mTrue\u001b[39;00m:\n\u001b[0;32m---> 10\u001b[0m     \u001b[43m__attr_validator_ib_list\u001b[49m\u001b[43m(\u001b[49m\u001b[38;5;28;43mself\u001b[39;49m\u001b[43m,\u001b[49m\u001b[43m \u001b[49m\u001b[43m__attr_ib_list\u001b[49m\u001b[43m,\u001b[49m\u001b[43m \u001b[49m\u001b[38;5;28;43mself\u001b[39;49m\u001b[38;5;241;43m.\u001b[39;49m\u001b[43mib_list\u001b[49m\u001b[43m)\u001b[49m\n\u001b[1;32m     11\u001b[0m     __attr_validator_ib_tuple(\u001b[38;5;28mself\u001b[39m, __attr_ib_tuple, \u001b[38;5;28mself\u001b[39m\u001b[38;5;241m.\u001b[39mib_tuple)\n\u001b[1;32m     12\u001b[0m     __attr_validator_ib_set(\u001b[38;5;28mself\u001b[39m, __attr_ib_set, \u001b[38;5;28mself\u001b[39m\u001b[38;5;241m.\u001b[39mib_set)\n",
      "File \u001b[0;32m~/Documents/GitHub/attrs_mate-project/.venv/lib/python3.8/site-packages/attr/validators.py:269\u001b[0m, in \u001b[0;36m_OptionalValidator.__call__\u001b[0;34m(self, inst, attr, value)\u001b[0m\n\u001b[1;32m    266\u001b[0m \u001b[38;5;28;01mif\u001b[39;00m value \u001b[38;5;129;01mis\u001b[39;00m \u001b[38;5;28;01mNone\u001b[39;00m:\n\u001b[1;32m    267\u001b[0m     \u001b[38;5;28;01mreturn\u001b[39;00m\n\u001b[0;32m--> 269\u001b[0m \u001b[38;5;28;43mself\u001b[39;49m\u001b[38;5;241;43m.\u001b[39;49m\u001b[43mvalidator\u001b[49m\u001b[43m(\u001b[49m\u001b[43minst\u001b[49m\u001b[43m,\u001b[49m\u001b[43m \u001b[49m\u001b[43mattr\u001b[49m\u001b[43m,\u001b[49m\u001b[43m \u001b[49m\u001b[43mvalue\u001b[49m\u001b[43m)\u001b[49m\n",
      "File \u001b[0;32m~/Documents/GitHub/attrs_mate-project/.venv/lib/python3.8/site-packages/attr/validators.py:100\u001b[0m, in \u001b[0;36m_InstanceOfValidator.__call__\u001b[0;34m(self, inst, attr, value)\u001b[0m\n\u001b[1;32m     96\u001b[0m \u001b[38;5;250m\u001b[39m\u001b[38;5;124;03m\"\"\"\u001b[39;00m\n\u001b[1;32m     97\u001b[0m \u001b[38;5;124;03mWe use a callable class to be able to change the ``__repr__``.\u001b[39;00m\n\u001b[1;32m     98\u001b[0m \u001b[38;5;124;03m\"\"\"\u001b[39;00m\n\u001b[1;32m     99\u001b[0m \u001b[38;5;28;01mif\u001b[39;00m \u001b[38;5;129;01mnot\u001b[39;00m \u001b[38;5;28misinstance\u001b[39m(value, \u001b[38;5;28mself\u001b[39m\u001b[38;5;241m.\u001b[39mtype):\n\u001b[0;32m--> 100\u001b[0m     \u001b[38;5;28;01mraise\u001b[39;00m \u001b[38;5;167;01mTypeError\u001b[39;00m(\n\u001b[1;32m    101\u001b[0m         \u001b[38;5;124m\"\u001b[39m\u001b[38;5;124m'\u001b[39m\u001b[38;5;132;01m{name}\u001b[39;00m\u001b[38;5;124m'\u001b[39m\u001b[38;5;124m must be \u001b[39m\u001b[38;5;132;01m{type!r}\u001b[39;00m\u001b[38;5;124m (got \u001b[39m\u001b[38;5;132;01m{value!r}\u001b[39;00m\u001b[38;5;124m that is a \u001b[39m\u001b[38;5;124m\"\u001b[39m\n\u001b[1;32m    102\u001b[0m         \u001b[38;5;124m\"\u001b[39m\u001b[38;5;132;01m{actual!r}\u001b[39;00m\u001b[38;5;124m).\u001b[39m\u001b[38;5;124m\"\u001b[39m\u001b[38;5;241m.\u001b[39mformat(\n\u001b[1;32m    103\u001b[0m             name\u001b[38;5;241m=\u001b[39mattr\u001b[38;5;241m.\u001b[39mname,\n\u001b[1;32m    104\u001b[0m             \u001b[38;5;28mtype\u001b[39m\u001b[38;5;241m=\u001b[39m\u001b[38;5;28mself\u001b[39m\u001b[38;5;241m.\u001b[39mtype,\n\u001b[1;32m    105\u001b[0m             actual\u001b[38;5;241m=\u001b[39mvalue\u001b[38;5;241m.\u001b[39m\u001b[38;5;18m__class__\u001b[39m,\n\u001b[1;32m    106\u001b[0m             value\u001b[38;5;241m=\u001b[39mvalue,\n\u001b[1;32m    107\u001b[0m         ),\n\u001b[1;32m    108\u001b[0m         attr,\n\u001b[1;32m    109\u001b[0m         \u001b[38;5;28mself\u001b[39m\u001b[38;5;241m.\u001b[39mtype,\n\u001b[1;32m    110\u001b[0m         value,\n\u001b[1;32m    111\u001b[0m     )\n",
      "\u001b[0;31mTypeError\u001b[0m: (\"'ib_list' must be <class 'list'> (got Invalid() that is a <class '__main__.Invalid'>).\", Attribute(name='ib_list', default=NOTHING, validator=<optional validator for <instance_of validator for type <class 'list'>> or None>, repr=True, eq=True, eq_key=None, order=True, order_key=None, hash=None, init=True, metadata=mappingproxy({}), type=None, converter=None, kw_only=False, inherited=False, on_setattr=None, alias='ib_list'), <class 'list'>, Invalid())"
     ]
    }
   ],
   "source": [
    "# ib_list is not a list\n",
    "attrs.evolve(data, ib_list=invalid)"
   ]
  },
  {
   "cell_type": "code",
   "execution_count": 67,
   "id": "2afcad08-0f16-4e45-9809-d78d9e70fa8e",
   "metadata": {},
   "outputs": [
    {
     "ename": "TypeError",
     "evalue": "(\"'ib_user_list' must be <class '__main__.User'> (got Invalid() that is a <class '__main__.Invalid'>).\", Attribute(name='ib_user_list', default=NOTHING, validator=<optional validator for <deep_iterable validator for <instance_of validator for type <class 'list'>> iterables of <instance_of validator for type <class '__main__.User'>>> or None>, repr=True, eq=True, eq_key=None, order=True, order_key=None, hash=None, init=True, metadata=mappingproxy({}), type=None, converter=None, kw_only=False, inherited=False, on_setattr=None, alias='ib_user_list'), <class '__main__.User'>, Invalid())",
     "output_type": "error",
     "traceback": [
      "\u001b[0;31m---------------------------------------------------------------------------\u001b[0m",
      "\u001b[0;31mTypeError\u001b[0m                                 Traceback (most recent call last)",
      "Cell \u001b[0;32mIn[67], line 2\u001b[0m\n\u001b[1;32m      1\u001b[0m \u001b[38;5;66;03m# ib_user_list is not a list of User\u001b[39;00m\n\u001b[0;32m----> 2\u001b[0m \u001b[43mattrs\u001b[49m\u001b[38;5;241;43m.\u001b[39;49m\u001b[43mevolve\u001b[49m\u001b[43m(\u001b[49m\u001b[43mdata\u001b[49m\u001b[43m,\u001b[49m\u001b[43m \u001b[49m\u001b[43mib_user_list\u001b[49m\u001b[38;5;241;43m=\u001b[39;49m\u001b[43m[\u001b[49m\u001b[43mUser\u001b[49m\u001b[43m(\u001b[49m\u001b[43m)\u001b[49m\u001b[43m,\u001b[49m\u001b[43m \u001b[49m\u001b[43minvalid\u001b[49m\u001b[43m]\u001b[49m\u001b[43m)\u001b[49m\n",
      "File \u001b[0;32m~/Documents/GitHub/attrs_mate-project/.venv/lib/python3.8/site-packages/attr/_funcs.py:413\u001b[0m, in \u001b[0;36mevolve\u001b[0;34m(*args, **changes)\u001b[0m\n\u001b[1;32m    410\u001b[0m     \u001b[38;5;28;01mif\u001b[39;00m init_name \u001b[38;5;129;01mnot\u001b[39;00m \u001b[38;5;129;01min\u001b[39;00m changes:\n\u001b[1;32m    411\u001b[0m         changes[init_name] \u001b[38;5;241m=\u001b[39m \u001b[38;5;28mgetattr\u001b[39m(inst, attr_name)\n\u001b[0;32m--> 413\u001b[0m \u001b[38;5;28;01mreturn\u001b[39;00m \u001b[38;5;28;43mcls\u001b[39;49m\u001b[43m(\u001b[49m\u001b[38;5;241;43m*\u001b[39;49m\u001b[38;5;241;43m*\u001b[39;49m\u001b[43mchanges\u001b[49m\u001b[43m)\u001b[49m\n",
      "File \u001b[0;32m<attrs generated init __main__.Data-3>:14\u001b[0m, in \u001b[0;36m__init__\u001b[0;34m(self, ib_list, ib_tuple, ib_set, ib_dict, ib_user_list, ib_user_mapper)\u001b[0m\n\u001b[1;32m     12\u001b[0m __attr_validator_ib_set(\u001b[38;5;28mself\u001b[39m, __attr_ib_set, \u001b[38;5;28mself\u001b[39m\u001b[38;5;241m.\u001b[39mib_set)\n\u001b[1;32m     13\u001b[0m __attr_validator_ib_dict(\u001b[38;5;28mself\u001b[39m, __attr_ib_dict, \u001b[38;5;28mself\u001b[39m\u001b[38;5;241m.\u001b[39mib_dict)\n\u001b[0;32m---> 14\u001b[0m \u001b[43m__attr_validator_ib_user_list\u001b[49m\u001b[43m(\u001b[49m\u001b[38;5;28;43mself\u001b[39;49m\u001b[43m,\u001b[49m\u001b[43m \u001b[49m\u001b[43m__attr_ib_user_list\u001b[49m\u001b[43m,\u001b[49m\u001b[43m \u001b[49m\u001b[38;5;28;43mself\u001b[39;49m\u001b[38;5;241;43m.\u001b[39;49m\u001b[43mib_user_list\u001b[49m\u001b[43m)\u001b[49m\n\u001b[1;32m     15\u001b[0m __attr_validator_ib_user_mapper(\u001b[38;5;28mself\u001b[39m, __attr_ib_user_mapper, \u001b[38;5;28mself\u001b[39m\u001b[38;5;241m.\u001b[39mib_user_mapper)\n",
      "File \u001b[0;32m~/Documents/GitHub/attrs_mate-project/.venv/lib/python3.8/site-packages/attr/validators.py:269\u001b[0m, in \u001b[0;36m_OptionalValidator.__call__\u001b[0;34m(self, inst, attr, value)\u001b[0m\n\u001b[1;32m    266\u001b[0m \u001b[38;5;28;01mif\u001b[39;00m value \u001b[38;5;129;01mis\u001b[39;00m \u001b[38;5;28;01mNone\u001b[39;00m:\n\u001b[1;32m    267\u001b[0m     \u001b[38;5;28;01mreturn\u001b[39;00m\n\u001b[0;32m--> 269\u001b[0m \u001b[38;5;28;43mself\u001b[39;49m\u001b[38;5;241;43m.\u001b[39;49m\u001b[43mvalidator\u001b[49m\u001b[43m(\u001b[49m\u001b[43minst\u001b[49m\u001b[43m,\u001b[49m\u001b[43m \u001b[49m\u001b[43mattr\u001b[49m\u001b[43m,\u001b[49m\u001b[43m \u001b[49m\u001b[43mvalue\u001b[49m\u001b[43m)\u001b[49m\n",
      "File \u001b[0;32m~/Documents/GitHub/attrs_mate-project/.venv/lib/python3.8/site-packages/attr/validators.py:396\u001b[0m, in \u001b[0;36m_DeepIterable.__call__\u001b[0;34m(self, inst, attr, value)\u001b[0m\n\u001b[1;32m    393\u001b[0m     \u001b[38;5;28mself\u001b[39m\u001b[38;5;241m.\u001b[39miterable_validator(inst, attr, value)\n\u001b[1;32m    395\u001b[0m \u001b[38;5;28;01mfor\u001b[39;00m member \u001b[38;5;129;01min\u001b[39;00m value:\n\u001b[0;32m--> 396\u001b[0m     \u001b[38;5;28;43mself\u001b[39;49m\u001b[38;5;241;43m.\u001b[39;49m\u001b[43mmember_validator\u001b[49m\u001b[43m(\u001b[49m\u001b[43minst\u001b[49m\u001b[43m,\u001b[49m\u001b[43m \u001b[49m\u001b[43mattr\u001b[49m\u001b[43m,\u001b[49m\u001b[43m \u001b[49m\u001b[43mmember\u001b[49m\u001b[43m)\u001b[49m\n",
      "File \u001b[0;32m~/Documents/GitHub/attrs_mate-project/.venv/lib/python3.8/site-packages/attr/validators.py:100\u001b[0m, in \u001b[0;36m_InstanceOfValidator.__call__\u001b[0;34m(self, inst, attr, value)\u001b[0m\n\u001b[1;32m     96\u001b[0m \u001b[38;5;250m\u001b[39m\u001b[38;5;124;03m\"\"\"\u001b[39;00m\n\u001b[1;32m     97\u001b[0m \u001b[38;5;124;03mWe use a callable class to be able to change the ``__repr__``.\u001b[39;00m\n\u001b[1;32m     98\u001b[0m \u001b[38;5;124;03m\"\"\"\u001b[39;00m\n\u001b[1;32m     99\u001b[0m \u001b[38;5;28;01mif\u001b[39;00m \u001b[38;5;129;01mnot\u001b[39;00m \u001b[38;5;28misinstance\u001b[39m(value, \u001b[38;5;28mself\u001b[39m\u001b[38;5;241m.\u001b[39mtype):\n\u001b[0;32m--> 100\u001b[0m     \u001b[38;5;28;01mraise\u001b[39;00m \u001b[38;5;167;01mTypeError\u001b[39;00m(\n\u001b[1;32m    101\u001b[0m         \u001b[38;5;124m\"\u001b[39m\u001b[38;5;124m'\u001b[39m\u001b[38;5;132;01m{name}\u001b[39;00m\u001b[38;5;124m'\u001b[39m\u001b[38;5;124m must be \u001b[39m\u001b[38;5;132;01m{type!r}\u001b[39;00m\u001b[38;5;124m (got \u001b[39m\u001b[38;5;132;01m{value!r}\u001b[39;00m\u001b[38;5;124m that is a \u001b[39m\u001b[38;5;124m\"\u001b[39m\n\u001b[1;32m    102\u001b[0m         \u001b[38;5;124m\"\u001b[39m\u001b[38;5;132;01m{actual!r}\u001b[39;00m\u001b[38;5;124m).\u001b[39m\u001b[38;5;124m\"\u001b[39m\u001b[38;5;241m.\u001b[39mformat(\n\u001b[1;32m    103\u001b[0m             name\u001b[38;5;241m=\u001b[39mattr\u001b[38;5;241m.\u001b[39mname,\n\u001b[1;32m    104\u001b[0m             \u001b[38;5;28mtype\u001b[39m\u001b[38;5;241m=\u001b[39m\u001b[38;5;28mself\u001b[39m\u001b[38;5;241m.\u001b[39mtype,\n\u001b[1;32m    105\u001b[0m             actual\u001b[38;5;241m=\u001b[39mvalue\u001b[38;5;241m.\u001b[39m\u001b[38;5;18m__class__\u001b[39m,\n\u001b[1;32m    106\u001b[0m             value\u001b[38;5;241m=\u001b[39mvalue,\n\u001b[1;32m    107\u001b[0m         ),\n\u001b[1;32m    108\u001b[0m         attr,\n\u001b[1;32m    109\u001b[0m         \u001b[38;5;28mself\u001b[39m\u001b[38;5;241m.\u001b[39mtype,\n\u001b[1;32m    110\u001b[0m         value,\n\u001b[1;32m    111\u001b[0m     )\n",
      "\u001b[0;31mTypeError\u001b[0m: (\"'ib_user_list' must be <class '__main__.User'> (got Invalid() that is a <class '__main__.Invalid'>).\", Attribute(name='ib_user_list', default=NOTHING, validator=<optional validator for <deep_iterable validator for <instance_of validator for type <class 'list'>> iterables of <instance_of validator for type <class '__main__.User'>>> or None>, repr=True, eq=True, eq_key=None, order=True, order_key=None, hash=None, init=True, metadata=mappingproxy({}), type=None, converter=None, kw_only=False, inherited=False, on_setattr=None, alias='ib_user_list'), <class '__main__.User'>, Invalid())"
     ]
    }
   ],
   "source": [
    "# ib_user_list is not a list of User\n",
    "attrs.evolve(data, ib_user_list=[User(), invalid])"
   ]
  },
  {
   "cell_type": "code",
   "execution_count": 68,
   "id": "e7e0cff6-de20-43d7-9c7d-80b036f00ec7",
   "metadata": {},
   "outputs": [
    {
     "ename": "TypeError",
     "evalue": "(\"'ib_user_mapper' must be <class '__main__.User'> (got 1 that is a <class 'int'>).\", Attribute(name='ib_user_mapper', default=NOTHING, validator=<optional validator for <deep_mapping validator for objects mapping <optional validator for <instance_of validator for type <class 'str'>> or None> to <optional validator for <instance_of validator for type <class '__main__.User'>> or None>> or None>, repr=True, eq=True, eq_key=None, order=True, order_key=None, hash=None, init=True, metadata=mappingproxy({}), type=None, converter=None, kw_only=False, inherited=False, on_setattr=None, alias='ib_user_mapper'), <class '__main__.User'>, 1)",
     "output_type": "error",
     "traceback": [
      "\u001b[0;31m---------------------------------------------------------------------------\u001b[0m",
      "\u001b[0;31mTypeError\u001b[0m                                 Traceback (most recent call last)",
      "Cell \u001b[0;32mIn[68], line 2\u001b[0m\n\u001b[1;32m      1\u001b[0m \u001b[38;5;66;03m# ib_user_mapper is not a str -> User mapper\u001b[39;00m\n\u001b[0;32m----> 2\u001b[0m \u001b[43mattrs\u001b[49m\u001b[38;5;241;43m.\u001b[39;49m\u001b[43mevolve\u001b[49m\u001b[43m(\u001b[49m\u001b[43mdata\u001b[49m\u001b[43m,\u001b[49m\u001b[43m \u001b[49m\u001b[43mib_user_mapper\u001b[49m\u001b[38;5;241;43m=\u001b[39;49m\u001b[43m{\u001b[49m\u001b[38;5;124;43m\"\u001b[39;49m\u001b[38;5;124;43ma\u001b[39;49m\u001b[38;5;124;43m\"\u001b[39;49m\u001b[43m:\u001b[49m\u001b[43m \u001b[49m\u001b[38;5;241;43m1\u001b[39;49m\u001b[43m}\u001b[49m\u001b[43m)\u001b[49m\n",
      "File \u001b[0;32m~/Documents/GitHub/attrs_mate-project/.venv/lib/python3.8/site-packages/attr/_funcs.py:413\u001b[0m, in \u001b[0;36mevolve\u001b[0;34m(*args, **changes)\u001b[0m\n\u001b[1;32m    410\u001b[0m     \u001b[38;5;28;01mif\u001b[39;00m init_name \u001b[38;5;129;01mnot\u001b[39;00m \u001b[38;5;129;01min\u001b[39;00m changes:\n\u001b[1;32m    411\u001b[0m         changes[init_name] \u001b[38;5;241m=\u001b[39m \u001b[38;5;28mgetattr\u001b[39m(inst, attr_name)\n\u001b[0;32m--> 413\u001b[0m \u001b[38;5;28;01mreturn\u001b[39;00m \u001b[38;5;28;43mcls\u001b[39;49m\u001b[43m(\u001b[49m\u001b[38;5;241;43m*\u001b[39;49m\u001b[38;5;241;43m*\u001b[39;49m\u001b[43mchanges\u001b[49m\u001b[43m)\u001b[49m\n",
      "File \u001b[0;32m<attrs generated init __main__.Data-3>:15\u001b[0m, in \u001b[0;36m__init__\u001b[0;34m(self, ib_list, ib_tuple, ib_set, ib_dict, ib_user_list, ib_user_mapper)\u001b[0m\n\u001b[1;32m     13\u001b[0m __attr_validator_ib_dict(\u001b[38;5;28mself\u001b[39m, __attr_ib_dict, \u001b[38;5;28mself\u001b[39m\u001b[38;5;241m.\u001b[39mib_dict)\n\u001b[1;32m     14\u001b[0m __attr_validator_ib_user_list(\u001b[38;5;28mself\u001b[39m, __attr_ib_user_list, \u001b[38;5;28mself\u001b[39m\u001b[38;5;241m.\u001b[39mib_user_list)\n\u001b[0;32m---> 15\u001b[0m \u001b[43m__attr_validator_ib_user_mapper\u001b[49m\u001b[43m(\u001b[49m\u001b[38;5;28;43mself\u001b[39;49m\u001b[43m,\u001b[49m\u001b[43m \u001b[49m\u001b[43m__attr_ib_user_mapper\u001b[49m\u001b[43m,\u001b[49m\u001b[43m \u001b[49m\u001b[38;5;28;43mself\u001b[39;49m\u001b[38;5;241;43m.\u001b[39;49m\u001b[43mib_user_mapper\u001b[49m\u001b[43m)\u001b[49m\n",
      "File \u001b[0;32m~/Documents/GitHub/attrs_mate-project/.venv/lib/python3.8/site-packages/attr/validators.py:269\u001b[0m, in \u001b[0;36m_OptionalValidator.__call__\u001b[0;34m(self, inst, attr, value)\u001b[0m\n\u001b[1;32m    266\u001b[0m \u001b[38;5;28;01mif\u001b[39;00m value \u001b[38;5;129;01mis\u001b[39;00m \u001b[38;5;28;01mNone\u001b[39;00m:\n\u001b[1;32m    267\u001b[0m     \u001b[38;5;28;01mreturn\u001b[39;00m\n\u001b[0;32m--> 269\u001b[0m \u001b[38;5;28;43mself\u001b[39;49m\u001b[38;5;241;43m.\u001b[39;49m\u001b[43mvalidator\u001b[49m\u001b[43m(\u001b[49m\u001b[43minst\u001b[49m\u001b[43m,\u001b[49m\u001b[43m \u001b[49m\u001b[43mattr\u001b[49m\u001b[43m,\u001b[49m\u001b[43m \u001b[49m\u001b[43mvalue\u001b[49m\u001b[43m)\u001b[49m\n",
      "File \u001b[0;32m~/Documents/GitHub/attrs_mate-project/.venv/lib/python3.8/site-packages/attr/validators.py:445\u001b[0m, in \u001b[0;36m_DeepMapping.__call__\u001b[0;34m(self, inst, attr, value)\u001b[0m\n\u001b[1;32m    443\u001b[0m \u001b[38;5;28;01mfor\u001b[39;00m key \u001b[38;5;129;01min\u001b[39;00m value:\n\u001b[1;32m    444\u001b[0m     \u001b[38;5;28mself\u001b[39m\u001b[38;5;241m.\u001b[39mkey_validator(inst, attr, key)\n\u001b[0;32m--> 445\u001b[0m     \u001b[38;5;28;43mself\u001b[39;49m\u001b[38;5;241;43m.\u001b[39;49m\u001b[43mvalue_validator\u001b[49m\u001b[43m(\u001b[49m\u001b[43minst\u001b[49m\u001b[43m,\u001b[49m\u001b[43m \u001b[49m\u001b[43mattr\u001b[49m\u001b[43m,\u001b[49m\u001b[43m \u001b[49m\u001b[43mvalue\u001b[49m\u001b[43m[\u001b[49m\u001b[43mkey\u001b[49m\u001b[43m]\u001b[49m\u001b[43m)\u001b[49m\n",
      "File \u001b[0;32m~/Documents/GitHub/attrs_mate-project/.venv/lib/python3.8/site-packages/attr/validators.py:269\u001b[0m, in \u001b[0;36m_OptionalValidator.__call__\u001b[0;34m(self, inst, attr, value)\u001b[0m\n\u001b[1;32m    266\u001b[0m \u001b[38;5;28;01mif\u001b[39;00m value \u001b[38;5;129;01mis\u001b[39;00m \u001b[38;5;28;01mNone\u001b[39;00m:\n\u001b[1;32m    267\u001b[0m     \u001b[38;5;28;01mreturn\u001b[39;00m\n\u001b[0;32m--> 269\u001b[0m \u001b[38;5;28;43mself\u001b[39;49m\u001b[38;5;241;43m.\u001b[39;49m\u001b[43mvalidator\u001b[49m\u001b[43m(\u001b[49m\u001b[43minst\u001b[49m\u001b[43m,\u001b[49m\u001b[43m \u001b[49m\u001b[43mattr\u001b[49m\u001b[43m,\u001b[49m\u001b[43m \u001b[49m\u001b[43mvalue\u001b[49m\u001b[43m)\u001b[49m\n",
      "File \u001b[0;32m~/Documents/GitHub/attrs_mate-project/.venv/lib/python3.8/site-packages/attr/validators.py:100\u001b[0m, in \u001b[0;36m_InstanceOfValidator.__call__\u001b[0;34m(self, inst, attr, value)\u001b[0m\n\u001b[1;32m     96\u001b[0m \u001b[38;5;250m\u001b[39m\u001b[38;5;124;03m\"\"\"\u001b[39;00m\n\u001b[1;32m     97\u001b[0m \u001b[38;5;124;03mWe use a callable class to be able to change the ``__repr__``.\u001b[39;00m\n\u001b[1;32m     98\u001b[0m \u001b[38;5;124;03m\"\"\"\u001b[39;00m\n\u001b[1;32m     99\u001b[0m \u001b[38;5;28;01mif\u001b[39;00m \u001b[38;5;129;01mnot\u001b[39;00m \u001b[38;5;28misinstance\u001b[39m(value, \u001b[38;5;28mself\u001b[39m\u001b[38;5;241m.\u001b[39mtype):\n\u001b[0;32m--> 100\u001b[0m     \u001b[38;5;28;01mraise\u001b[39;00m \u001b[38;5;167;01mTypeError\u001b[39;00m(\n\u001b[1;32m    101\u001b[0m         \u001b[38;5;124m\"\u001b[39m\u001b[38;5;124m'\u001b[39m\u001b[38;5;132;01m{name}\u001b[39;00m\u001b[38;5;124m'\u001b[39m\u001b[38;5;124m must be \u001b[39m\u001b[38;5;132;01m{type!r}\u001b[39;00m\u001b[38;5;124m (got \u001b[39m\u001b[38;5;132;01m{value!r}\u001b[39;00m\u001b[38;5;124m that is a \u001b[39m\u001b[38;5;124m\"\u001b[39m\n\u001b[1;32m    102\u001b[0m         \u001b[38;5;124m\"\u001b[39m\u001b[38;5;132;01m{actual!r}\u001b[39;00m\u001b[38;5;124m).\u001b[39m\u001b[38;5;124m\"\u001b[39m\u001b[38;5;241m.\u001b[39mformat(\n\u001b[1;32m    103\u001b[0m             name\u001b[38;5;241m=\u001b[39mattr\u001b[38;5;241m.\u001b[39mname,\n\u001b[1;32m    104\u001b[0m             \u001b[38;5;28mtype\u001b[39m\u001b[38;5;241m=\u001b[39m\u001b[38;5;28mself\u001b[39m\u001b[38;5;241m.\u001b[39mtype,\n\u001b[1;32m    105\u001b[0m             actual\u001b[38;5;241m=\u001b[39mvalue\u001b[38;5;241m.\u001b[39m\u001b[38;5;18m__class__\u001b[39m,\n\u001b[1;32m    106\u001b[0m             value\u001b[38;5;241m=\u001b[39mvalue,\n\u001b[1;32m    107\u001b[0m         ),\n\u001b[1;32m    108\u001b[0m         attr,\n\u001b[1;32m    109\u001b[0m         \u001b[38;5;28mself\u001b[39m\u001b[38;5;241m.\u001b[39mtype,\n\u001b[1;32m    110\u001b[0m         value,\n\u001b[1;32m    111\u001b[0m     )\n",
      "\u001b[0;31mTypeError\u001b[0m: (\"'ib_user_mapper' must be <class '__main__.User'> (got 1 that is a <class 'int'>).\", Attribute(name='ib_user_mapper', default=NOTHING, validator=<optional validator for <deep_mapping validator for objects mapping <optional validator for <instance_of validator for type <class 'str'>> or None> to <optional validator for <instance_of validator for type <class '__main__.User'>> or None>> or None>, repr=True, eq=True, eq_key=None, order=True, order_key=None, hash=None, init=True, metadata=mappingproxy({}), type=None, converter=None, kw_only=False, inherited=False, on_setattr=None, alias='ib_user_mapper'), <class '__main__.User'>, 1)"
     ]
    }
   ],
   "source": [
    "# ib_user_mapper is not a str -> User mapper\n",
    "attrs.evolve(data, ib_user_mapper={\"a\": 1})"
   ]
  },
  {
   "cell_type": "code",
   "execution_count": null,
   "id": "26e5b718-4838-4d6c-b9a6-a3ea87438a37",
   "metadata": {},
   "outputs": [],
   "source": []
  }
 ],
 "metadata": {
  "kernelspec": {
   "display_name": "Python 3 (ipykernel)",
   "language": "python",
   "name": "python3"
  },
  "language_info": {
   "codemirror_mode": {
    "name": "ipython",
    "version": 3
   },
   "file_extension": ".py",
   "mimetype": "text/x-python",
   "name": "python",
   "nbconvert_exporter": "python",
   "pygments_lexer": "ipython3",
   "version": "3.8.13"
  }
 },
 "nbformat": 4,
 "nbformat_minor": 5
}
